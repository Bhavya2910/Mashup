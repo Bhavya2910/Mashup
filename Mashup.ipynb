{
  "cells": [
    {
      "cell_type": "markdown",
      "metadata": {
        "id": "view-in-github",
        "colab_type": "text"
      },
      "source": [
        "<a href=\"https://colab.research.google.com/github/Bhavya2910/Mashup/blob/main/Mashup.ipynb\" target=\"_parent\"><img src=\"https://colab.research.google.com/assets/colab-badge.svg\" alt=\"Open In Colab\"/></a>"
      ]
    },
    {
      "cell_type": "code",
      "execution_count": 1,
      "metadata": {
        "colab": {
          "base_uri": "https://localhost:8080/"
        },
        "id": "-_9nvfFjjcdF",
        "outputId": "8226be75-c256-472b-fc3c-09939747b927"
      },
      "outputs": [
        {
          "output_type": "stream",
          "name": "stdout",
          "text": [
            "Collecting pytube\n",
            "  Downloading pytube-15.0.0-py3-none-any.whl (57 kB)\n",
            "\u001b[2K     \u001b[90m━━━━━━━━━━━━━━━━━━━━━━━━━━━━━━━━━━━━━━━━\u001b[0m \u001b[32m57.6/57.6 kB\u001b[0m \u001b[31m701.0 kB/s\u001b[0m eta \u001b[36m0:00:00\u001b[0m\n",
            "\u001b[?25hRequirement already satisfied: moviepy in /usr/local/lib/python3.10/dist-packages (1.0.3)\n",
            "Collecting youtube-search-python\n",
            "  Downloading youtube_search_python-1.6.6-py3-none-any.whl (89 kB)\n",
            "\u001b[2K     \u001b[90m━━━━━━━━━━━━━━━━━━━━━━━━━━━━━━━━━━━━━━━━\u001b[0m \u001b[32m89.1/89.1 kB\u001b[0m \u001b[31m3.7 MB/s\u001b[0m eta \u001b[36m0:00:00\u001b[0m\n",
            "\u001b[?25hCollecting pydub\n",
            "  Downloading pydub-0.25.1-py2.py3-none-any.whl (32 kB)\n",
            "Requirement already satisfied: decorator<5.0,>=4.0.2 in /usr/local/lib/python3.10/dist-packages (from moviepy) (4.4.2)\n",
            "Requirement already satisfied: tqdm<5.0,>=4.11.2 in /usr/local/lib/python3.10/dist-packages (from moviepy) (4.66.4)\n",
            "Requirement already satisfied: requests<3.0,>=2.8.1 in /usr/local/lib/python3.10/dist-packages (from moviepy) (2.31.0)\n",
            "Requirement already satisfied: proglog<=1.0.0 in /usr/local/lib/python3.10/dist-packages (from moviepy) (0.1.10)\n",
            "Requirement already satisfied: numpy>=1.17.3 in /usr/local/lib/python3.10/dist-packages (from moviepy) (1.25.2)\n",
            "Requirement already satisfied: imageio<3.0,>=2.5 in /usr/local/lib/python3.10/dist-packages (from moviepy) (2.31.6)\n",
            "Requirement already satisfied: imageio-ffmpeg>=0.2.0 in /usr/local/lib/python3.10/dist-packages (from moviepy) (0.4.9)\n",
            "Collecting httpx>=0.14.2 (from youtube-search-python)\n",
            "  Downloading httpx-0.27.0-py3-none-any.whl (75 kB)\n",
            "\u001b[2K     \u001b[90m━━━━━━━━━━━━━━━━━━━━━━━━━━━━━━━━━━━━━━━━\u001b[0m \u001b[32m75.6/75.6 kB\u001b[0m \u001b[31m6.4 MB/s\u001b[0m eta \u001b[36m0:00:00\u001b[0m\n",
            "\u001b[?25hRequirement already satisfied: anyio in /usr/local/lib/python3.10/dist-packages (from httpx>=0.14.2->youtube-search-python) (3.7.1)\n",
            "Requirement already satisfied: certifi in /usr/local/lib/python3.10/dist-packages (from httpx>=0.14.2->youtube-search-python) (2024.2.2)\n",
            "Collecting httpcore==1.* (from httpx>=0.14.2->youtube-search-python)\n",
            "  Downloading httpcore-1.0.5-py3-none-any.whl (77 kB)\n",
            "\u001b[2K     \u001b[90m━━━━━━━━━━━━━━━━━━━━━━━━━━━━━━━━━━━━━━━━\u001b[0m \u001b[32m77.9/77.9 kB\u001b[0m \u001b[31m6.3 MB/s\u001b[0m eta \u001b[36m0:00:00\u001b[0m\n",
            "\u001b[?25hRequirement already satisfied: idna in /usr/local/lib/python3.10/dist-packages (from httpx>=0.14.2->youtube-search-python) (3.7)\n",
            "Requirement already satisfied: sniffio in /usr/local/lib/python3.10/dist-packages (from httpx>=0.14.2->youtube-search-python) (1.3.1)\n",
            "Collecting h11<0.15,>=0.13 (from httpcore==1.*->httpx>=0.14.2->youtube-search-python)\n",
            "  Downloading h11-0.14.0-py3-none-any.whl (58 kB)\n",
            "\u001b[2K     \u001b[90m━━━━━━━━━━━━━━━━━━━━━━━━━━━━━━━━━━━━━━━━\u001b[0m \u001b[32m58.3/58.3 kB\u001b[0m \u001b[31m6.4 MB/s\u001b[0m eta \u001b[36m0:00:00\u001b[0m\n",
            "\u001b[?25hRequirement already satisfied: pillow<10.1.0,>=8.3.2 in /usr/local/lib/python3.10/dist-packages (from imageio<3.0,>=2.5->moviepy) (9.4.0)\n",
            "Requirement already satisfied: setuptools in /usr/local/lib/python3.10/dist-packages (from imageio-ffmpeg>=0.2.0->moviepy) (67.7.2)\n",
            "Requirement already satisfied: charset-normalizer<4,>=2 in /usr/local/lib/python3.10/dist-packages (from requests<3.0,>=2.8.1->moviepy) (3.3.2)\n",
            "Requirement already satisfied: urllib3<3,>=1.21.1 in /usr/local/lib/python3.10/dist-packages (from requests<3.0,>=2.8.1->moviepy) (2.0.7)\n",
            "Requirement already satisfied: exceptiongroup in /usr/local/lib/python3.10/dist-packages (from anyio->httpx>=0.14.2->youtube-search-python) (1.2.1)\n",
            "Installing collected packages: pydub, pytube, h11, httpcore, httpx, youtube-search-python\n",
            "Successfully installed h11-0.14.0 httpcore-1.0.5 httpx-0.27.0 pydub-0.25.1 pytube-15.0.0 youtube-search-python-1.6.6\n"
          ]
        }
      ],
      "source": [
        "!pip install pytube moviepy youtube-search-python pydub\n"
      ]
    },
    {
      "cell_type": "code",
      "execution_count": 2,
      "metadata": {
        "id": "2zNyN8vqjss-"
      },
      "outputs": [],
      "source": [
        "import os\n",
        "from pytube import YouTube\n",
        "from moviepy.video.io.VideoFileClip import VideoFileClip\n",
        "from moviepy.audio.io.AudioFileClip import AudioFileClip\n",
        "from moviepy.editor import concatenate_videoclips\n",
        "from pydub import AudioSegment\n",
        "import logging\n",
        "from youtubesearchpython import VideosSearch\n"
      ]
    },
    {
      "cell_type": "code",
      "execution_count": 3,
      "metadata": {
        "id": "xXO15HhknBTU"
      },
      "outputs": [],
      "source": [
        "import smtplib\n",
        "from email.message import EmailMessage\n",
        "import zipfile\n"
      ]
    },
    {
      "cell_type": "code",
      "execution_count": 4,
      "metadata": {
        "id": "U1kwKQ7Ysro4"
      },
      "outputs": [],
      "source": [
        "\n",
        "def download_videos(singer, n):\n",
        "    videos = []\n",
        "    query = f\"{singer} official songs\"\n",
        "\n",
        "    try:\n",
        "        video_search = VideosSearch(query, limit=n)\n",
        "        results = video_search.result()\n",
        "\n",
        "        for video in results['result']:\n",
        "            video_title = video[\"title\"]\n",
        "\n",
        "\n",
        "            if 'PLAYLIST' not in video_title.upper():\n",
        "                video_url = f'https://www.youtube.com/watch?v={video[\"id\"]}'\n",
        "                yt_video = YouTube(video_url)\n",
        "                stream = yt_video.streams.filter(file_extension='mp4').first()\n",
        "                stream.download()\n",
        "                videos.append(stream.title)\n",
        "\n",
        "                if len(videos) > n:\n",
        "                    break\n",
        "\n",
        "    except Exception as e:\n",
        "        print(f\"Error: {e}\")\n",
        "\n",
        "    return videos\n"
      ]
    },
    {
      "cell_type": "code",
      "execution_count": 5,
      "metadata": {
        "id": "3dLJeGsDsuTT"
      },
      "outputs": [],
      "source": [
        "\n",
        "def convert_to_audio(video_path):\n",
        "    try:\n",
        "        if os.path.exists(video_path):\n",
        "            audio_path = os.path.splitext(video_path)[0] + \".mp3\"\n",
        "            clip = VideoFileClip(video_path)\n",
        "            clip.audio.write_audiofile(audio_path)\n",
        "            return audio_path\n",
        "        else:\n",
        "            print(f\"Error converting video to audio: Video file not found - {video_path}\")\n",
        "            return None\n",
        "    except Exception as e:\n",
        "        print(f\"Error converting video to audio: {e}\")\n",
        "        return None\n"
      ]
    },
    {
      "cell_type": "code",
      "execution_count": 6,
      "metadata": {
        "id": "S1SbqIrJs6A-"
      },
      "outputs": [],
      "source": [
        "\n",
        "def cut_audio(audio_path, y):\n",
        "    try:\n",
        "        if os.path.exists(audio_path):\n",
        "            cut_audio_path = os.path.splitext(audio_path)[0] + \"_cut.mp3\"\n",
        "            clip = AudioFileClip(audio_path)\n",
        "            cut_clip = clip.subclip(0, min(y, clip.duration))\n",
        "            cut_clip.write_audiofile(cut_audio_path)\n",
        "            return cut_audio_path\n",
        "        else:\n",
        "            print(f\"Error cutting audio: Audio file not found - {audio_path}\")\n",
        "            return None\n",
        "    except Exception as e:\n",
        "        print(f\"Error cutting audio: {e}\")\n",
        "        return None\n"
      ]
    },
    {
      "cell_type": "code",
      "execution_count": 7,
      "metadata": {
        "id": "Iktp1qbLs7Jd"
      },
      "outputs": [],
      "source": [
        "\n",
        "def merge_audios(audio_files, output_path):\n",
        "    try:\n",
        "        audio_segments = [AudioSegment.from_file(audio_file, format=\"mp3\") for audio_file in audio_files if audio_file is not None and os.path.exists(audio_file)]\n",
        "        if audio_segments:\n",
        "            final_segment = sum(audio_segments)\n",
        "            final_segment.export(output_path, format=\"mp3\")\n",
        "            print(\"Audio files merged successfully.\")\n",
        "        else:\n",
        "            print(\"No valid audio files to merge.\")\n",
        "    except Exception as e:\n",
        "        print(f\"Error merging audio files: {e}\")\n"
      ]
    },
    {
      "cell_type": "code",
      "execution_count": 8,
      "metadata": {
        "id": "PsDN8DNbnILZ"
      },
      "outputs": [],
      "source": [
        "import os\n",
        "def send_email_with_zip(zip_file_path, email_id):\n",
        "    try:\n",
        "        msg = EmailMessage()\n",
        "        msg.set_content(\"Please find the attached zip file.\")\n",
        "\n",
        "        msg['Subject'] = 'Merged Audio Files'\n",
        "        msg['From'] = 'bhhavyagoyal243@gmail.com'  # Your Gmail email address\n",
        "        msg['To'] = email_id\n",
        "\n",
        "        with open(zip_file_path, 'rb') as file:\n",
        "            file_data = file.read()\n",
        "            msg.add_attachment(file_data, maintype='application', subtype='zip', filename='merged_files.zip')\n",
        "\n",
        "        with smtplib.SMTP('smtp.gmail.com', 587) as server:\n",
        "            server.starttls()\n",
        "            server.login('bhhavyagoyal243@gmail.com', 'bwni tiwz btjw jzbi')  # Replace with your Gmail email and password\n",
        "            server.send_message(msg)\n",
        "\n",
        "        print(\"Email sent successfully.\")\n",
        "    except Exception as e:\n",
        "        print(f\"Error sending email: {e}\")\n"
      ]
    },
    {
      "cell_type": "code",
      "execution_count": 9,
      "metadata": {
        "colab": {
          "base_uri": "https://localhost:8080/"
        },
        "id": "WQnq9TGD8zAI",
        "outputId": "0d5e0d80-9a1b-46e8-a187-1aa524fcb263"
      },
      "outputs": [
        {
          "output_type": "stream",
          "name": "stdout",
          "text": [
            "Enter singer name: BTS\n",
            "Enter the number of videos to download: 3\n",
            "Enter the duration of each video (in seconds): 20\n",
            "Enter your email address: bhavyagoyal867@gmail.com\n",
            "MoviePy - Writing audio in Dynamite.mp3\n"
          ]
        },
        {
          "output_type": "stream",
          "name": "stderr",
          "text": []
        },
        {
          "output_type": "stream",
          "name": "stdout",
          "text": [
            "MoviePy - Done.\n",
            "MoviePy - Writing audio in Dynamite_cut.mp3\n"
          ]
        },
        {
          "output_type": "stream",
          "name": "stderr",
          "text": []
        },
        {
          "output_type": "stream",
          "name": "stdout",
          "text": [
            "MoviePy - Done.\n",
            "MoviePy - Writing audio in Life Goes On.mp3\n"
          ]
        },
        {
          "output_type": "stream",
          "name": "stderr",
          "text": []
        },
        {
          "output_type": "stream",
          "name": "stdout",
          "text": [
            "MoviePy - Done.\n",
            "MoviePy - Writing audio in Life Goes On_cut.mp3\n"
          ]
        },
        {
          "output_type": "stream",
          "name": "stderr",
          "text": []
        },
        {
          "output_type": "stream",
          "name": "stdout",
          "text": [
            "MoviePy - Done.\n",
            "MoviePy - Writing audio in FAKE LOVE.mp3\n"
          ]
        },
        {
          "output_type": "stream",
          "name": "stderr",
          "text": []
        },
        {
          "output_type": "stream",
          "name": "stdout",
          "text": [
            "MoviePy - Done.\n",
            "MoviePy - Writing audio in FAKE LOVE_cut.mp3\n"
          ]
        },
        {
          "output_type": "stream",
          "name": "stderr",
          "text": []
        },
        {
          "output_type": "stream",
          "name": "stdout",
          "text": [
            "MoviePy - Done.\n",
            "Audio files merged successfully.\n",
            "Email sent successfully.\n",
            "Task completed successfully.\n"
          ]
        }
      ],
      "source": [
        "\n",
        "def main():\n",
        "    singer = input(\"Enter singer name: \")\n",
        "    n = int(input(\"Enter the number of videos to download: \"))\n",
        "    y = int(input(\"Enter the duration of each video (in seconds): \"))\n",
        "    email_id = input(\"Enter your email address: \")\n",
        "\n",
        "    videos = download_videos(singer, n)\n",
        "    audio_files = []\n",
        "\n",
        "    for video_title in videos:\n",
        "        video_path = video_title + \".mp4\"\n",
        "        audio_path = convert_to_audio(video_path)\n",
        "\n",
        "        if audio_path:\n",
        "            cut_audio_path = cut_audio(audio_path, y)\n",
        "            if cut_audio_path:\n",
        "                audio_files.append(cut_audio_path)\n",
        "\n",
        "    if audio_files:\n",
        "        output_path = f\"{singer}_merged_output.mp3\"\n",
        "        merge_audios(audio_files, output_path)\n",
        "\n",
        "        # Create a zip file\n",
        "        zip_file_path = f\"{singer}_merged_files.zip\"\n",
        "        with zipfile.ZipFile(zip_file_path, 'w') as zip_file:\n",
        "            for audio_file in audio_files:\n",
        "                zip_file.write(audio_file)\n",
        "\n",
        "        # Send email with the zip file\n",
        "        send_email_with_zip(zip_file_path, email_id)\n",
        "\n",
        "        print(\"Task completed successfully.\")\n",
        "    else:\n",
        "        logging.warning(\"No valid audio files to process.\")\n",
        "\n",
        "\n",
        "if __name__ == \"__main__\":\n",
        "    main()"
      ]
    }
  ],
  "metadata": {
    "colab": {
      "provenance": [],
      "authorship_tag": "ABX9TyPJHRSgg9mB8mmpf1ztSeAA",
      "include_colab_link": true
    },
    "kernelspec": {
      "display_name": "Python 3",
      "name": "python3"
    },
    "language_info": {
      "name": "python"
    }
  },
  "nbformat": 4,
  "nbformat_minor": 0
}